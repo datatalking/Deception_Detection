{
 "cells": [
  {
   "cell_type": "code",
   "execution_count": null,
   "metadata": {
    "collapsed": true
   },
   "outputs": [],
   "source": [
    "# SOURCE https://towardsdatascience.com/media-bias-detection-using-deep-learning-libraries-in-python-44efef4918d1\n",
    "# SOURCE https://www.kaggle.com/snapcrack/all-the-news\n",
    "# sentiment analysis https://towardsdatascience.com/all-the-news-17fa34b52b9d\n",
    "\n",
    "# DATA SOURCE https://components.one/datasets/all-the-news-articles-dataset/\n",
    "# stemming process\n",
    "\n",
    "import nltk\n",
    "from nltk import pos_tag\n",
    "from nltk.stem import PorterStemmer\n",
    "from nltk import word_tokenize\n",
    "from collections import Counter\n",
    "import time\n",
    "\n",
    "stemmer = PorterStemmer()\n",
    "tokenizer = nltk.data.load(‘tokenizers / punkt / english.pickle’)\n",
    "progress = 0  # for keeping track of where the function is\n",
    "\n",
    "\n",
    "def stem(x):\n",
    "\tend = time.time()\n",
    "\tdirty = word_tokenize(x)\n",
    "\ttokens = []\n",
    "\tfor word in dirty:\n",
    "\t\tif word.strip(‘.’) == ‘’:  # this deals with the bug\n",
    "\t\t\tpass\n",
    "\t\telif re.search(r’\\d{1, }’, word):  # getting rid of digits\n",
    "\t\t\tpass\n",
    "\telse:\n",
    "\t\ttokens.append(word.strip(‘.’))\n",
    "\t\tglobal start\n",
    "\t\tglobal progress\n",
    "\t\ttokens = pos_tag(tokens)  #\n",
    "\t\tprogress += 1\n",
    "\t\tstems = ‘ ‘.join(\n",
    "\t\t\tstemmer.stem(key.lower()) for key, value in tokens if value != ‘NNP’)  # getting rid of proper nouns\n",
    "\n",
    "\t\tend = time.time()\n",
    "\t\tsys.stdout.write(‘\\r\n",
    "\t\t{}\n",
    "\t\tpercent, {}\n",
    "\t\tposition, {}\n",
    "\t\tper\n",
    "\t\tsecond ‘.format(str(float(progress / len(articles))),\n",
    "\t\t                str(progress), (1 / (end — start))))  # lets us see how much time is left\n",
    "\t\tstart = time.time()\n",
    "\t\treturn stems\n",
    "\tstart = time.time()\n",
    "\tarticles['stems'] = articles.content.apply(lambda x: stem(x))"
   ]
  },
  {
   "cell_type": "code",
   "execution_count": null,
   "outputs": [],
   "source": [
    "from collections import Counter\n",
    "all_words = Counter()\n",
    "start = time.time()\n",
    "progress = 0\n",
    "def count_everything(x):\n",
    "    global start\n",
    "    global all_words\n",
    "    global progress\n",
    "    x = x.split(‘ ‘)\n",
    "    for word in x:\n",
    "        all_words[word] += 1\n",
    "    progress += 1\n",
    "    end = time.time()\n",
    " sys.stdout.write(‘\\r {} percent, {} position, {} per second ‘.format((str(float(progress / len(articles)))),\n",
    " (progress), (1 / (end — start))))\n",
    "    start = time.time()\n",
    "for item in articles.stems:\n",
    "    count_everything(item)\n"
   ],
   "metadata": {
    "collapsed": false,
    "pycharm": {
     "name": "#%%\n"
    }
   }
  },
  {
   "cell_type": "code",
   "execution_count": 1,
   "outputs": [
    {
     "ename": "SyntaxError",
     "evalue": "invalid character in identifier (<ipython-input-1-dfe1082adc60>, line 1)",
     "output_type": "error",
     "traceback": [
      "\u001B[0;36m  File \u001B[0;32m\"<ipython-input-1-dfe1082adc60>\"\u001B[0;36m, line \u001B[0;32m1\u001B[0m\n\u001B[0;31m    allwordsdf = pd.DataFrame(columns = [‘words’, ‘count’])\u001B[0m\n\u001B[0m                                               ^\u001B[0m\n\u001B[0;31mSyntaxError\u001B[0m\u001B[0;31m:\u001B[0m invalid character in identifier\n"
     ]
    }
   ],
   "source": [
    "allwordsdf = pd.DataFrame(columns = [‘words’, ‘count’])\n",
    "allwordsdf[‘count’] = pd.Series(list(all_words.values()))\n",
    "allwordsdf[‘words’] = pd.Series(list(all_words.keys()))\n",
    "allwordsdf.index = allwordsdf[‘words’]"
   ],
   "metadata": {
    "collapsed": false,
    "pycharm": {
     "name": "#%%\n"
    }
   }
  },
  {
   "cell_type": "code",
   "execution_count": null,
   "outputs": [],
   "source": [
    "from nltk.corpus import words\n",
    "nltkstems = [stemmer.stem(word) for word in words.words()] #stem the #words in the NLTK corpus so that they’re equivalent to the words in #the allwordsdf dataframe\n",
    "nltkwords = pd.DataFrame() #make a new dataframe with the stemmed #NLTK words\n",
    "nltkwords[‘words’] = nltkstems\n",
    "allwordsdf = allwordsdf[allwordsdf[‘words’].isin(nltkwords[‘words’])] #keep only #those in the stemmed NLTK corpus"
   ],
   "metadata": {
    "collapsed": false,
    "pycharm": {
     "name": "#%%\n"
    }
   }
  },
  {
   "cell_type": "code",
   "execution_count": null,
   "outputs": [],
   "source": [
    "allwordsdf[allwordsdf[‘count’] == allwordsdf[‘count’].quantile(.4)][:10]"
   ],
   "metadata": {
    "collapsed": false,
    "pycharm": {
     "name": "#%%\n"
    }
   }
  },
  {
   "cell_type": "code",
   "execution_count": 2,
   "outputs": [
    {
     "ename": "SyntaxError",
     "evalue": "invalid character in identifier (<ipython-input-2-6959f924be9e>, line 2)",
     "output_type": "error",
     "traceback": [
      "\u001B[0;36m  File \u001B[0;32m\"<ipython-input-2-6959f924be9e>\"\u001B[0;36m, line \u001B[0;32m2\u001B[0m\n\u001B[0;31m    stopwords = list(allwordsdf[(allwordsdf[‘count’] >= allwordsdf[‘count’].quantile(.995)) | (allwordsdf[‘count’] <= allwordsdf[‘count’].quantile(.4))][‘words’])\u001B[0m\n\u001B[0m                                                  ^\u001B[0m\n\u001B[0;31mSyntaxError\u001B[0m\u001B[0;31m:\u001B[0m invalid character in identifier\n"
     ]
    }
   ],
   "source": [
    "from sklearn.feature_extraction.text import TfidfVectorizer\n",
    "stopwords = list(allwordsdf[(allwordsdf[‘count’] >= allwordsdf[‘count’].quantile(.995)) | (allwordsdf[‘count’] <= allwordsdf[‘count’].quantile(.4))][‘words’])\n",
    "vecvocab = list(allwordsdf[(allwordsdf[‘count’] < allwordsdf[‘count’].quantile(.995)) & (allwordsdf[‘count’] > allwordsdf[‘count’].quantile(.4))][‘words’])\n",
    "vec = TfidfVectorizer(stop_words = stopwords, vocabulary = vecvocab, tokenizer=None)"
   ],
   "metadata": {
    "collapsed": false,
    "pycharm": {
     "name": "#%%\n"
    }
   }
  },
  {
   "cell_type": "code",
   "execution_count": 3,
   "outputs": [
    {
     "ename": "SyntaxError",
     "evalue": "invalid character in identifier (<ipython-input-3-3a00a2f41f11>, line 1)",
     "output_type": "error",
     "traceback": [
      "\u001B[0;36m  File \u001B[0;32m\"<ipython-input-3-3a00a2f41f11>\"\u001B[0;36m, line \u001B[0;32m1\u001B[0m\n\u001B[0;31m    vec_matrix = vec.fit_transform(articles[‘stems’])\u001B[0m\n\u001B[0m                                                  ^\u001B[0m\n\u001B[0;31mSyntaxError\u001B[0m\u001B[0;31m:\u001B[0m invalid character in identifier\n"
     ]
    }
   ],
   "source": [
    "vec_matrix = vec.fit_transform(articles[‘stems’])"
   ],
   "metadata": {
    "collapsed": false,
    "pycharm": {
     "name": "#%%\n"
    }
   }
  },
  {
   "cell_type": "code",
   "execution_count": 4,
   "outputs": [
    {
     "ename": "ModuleNotFoundError",
     "evalue": "No module named 'sklearn'",
     "output_type": "error",
     "traceback": [
      "\u001B[0;31m---------------------------------------------------------------------------\u001B[0m",
      "\u001B[0;31mModuleNotFoundError\u001B[0m                       Traceback (most recent call last)",
      "\u001B[0;32m<ipython-input-4-9505c32ebd87>\u001B[0m in \u001B[0;36m<module>\u001B[0;34m\u001B[0m\n\u001B[0;32m----> 1\u001B[0;31m \u001B[0;32mfrom\u001B[0m \u001B[0msklearn\u001B[0m\u001B[0;34m.\u001B[0m\u001B[0mdecomposition\u001B[0m \u001B[0;32mimport\u001B[0m \u001B[0mTruncatedSVD\u001B[0m\u001B[0;34m\u001B[0m\u001B[0;34m\u001B[0m\u001B[0m\n\u001B[0m\u001B[1;32m      2\u001B[0m \u001B[0mpca\u001B[0m \u001B[0;34m=\u001B[0m \u001B[0mTruncatedSVD\u001B[0m\u001B[0;34m(\u001B[0m\u001B[0mn_components\u001B[0m\u001B[0;34m=\u001B[0m\u001B[0;36m100\u001B[0m\u001B[0;34m)\u001B[0m\u001B[0;34m\u001B[0m\u001B[0;34m\u001B[0m\u001B[0m\n\u001B[1;32m      3\u001B[0m \u001B[0mvec_matrix_pca\u001B[0m \u001B[0;34m=\u001B[0m \u001B[0mpca\u001B[0m\u001B[0;34m.\u001B[0m\u001B[0mfit_transform\u001B[0m\u001B[0;34m(\u001B[0m\u001B[0mvec_matrix\u001B[0m\u001B[0;34m)\u001B[0m\u001B[0;34m\u001B[0m\u001B[0;34m\u001B[0m\u001B[0m\n\u001B[1;32m      4\u001B[0m \u001B[0;34m\u001B[0m\u001B[0m\n",
      "\u001B[0;31mModuleNotFoundError\u001B[0m: No module named 'sklearn'"
     ]
    }
   ],
   "source": [
    "from sklearn.decomposition import TruncatedSVD\n",
    "pca = TruncatedSVD(n_components=100)\n",
    "vec_matrix_pca = pca.fit_transform(vec_matrix)"
   ],
   "metadata": {
    "collapsed": false,
    "pycharm": {
     "name": "#%%\n"
    }
   }
  },
  {
   "cell_type": "code",
   "execution_count": 5,
   "outputs": [
    {
     "ename": "ModuleNotFoundError",
     "evalue": "No module named 'sklearn'",
     "output_type": "error",
     "traceback": [
      "\u001B[0;31m---------------------------------------------------------------------------\u001B[0m",
      "\u001B[0;31mModuleNotFoundError\u001B[0m                       Traceback (most recent call last)",
      "\u001B[0;32m<ipython-input-5-f061bba579ca>\u001B[0m in \u001B[0;36m<module>\u001B[0;34m\u001B[0m\n\u001B[0;32m----> 1\u001B[0;31m \u001B[0;32mfrom\u001B[0m \u001B[0msklearn\u001B[0m\u001B[0;34m.\u001B[0m\u001B[0mcluster\u001B[0m \u001B[0;32mimport\u001B[0m \u001B[0mKMeans\u001B[0m\u001B[0;34m\u001B[0m\u001B[0;34m\u001B[0m\u001B[0m\n\u001B[0m\u001B[1;32m      2\u001B[0m \u001B[0mclf10\u001B[0m \u001B[0;34m=\u001B[0m \u001B[0mKMeans\u001B[0m\u001B[0;34m(\u001B[0m\u001B[0mn_clusters\u001B[0m\u001B[0;34m=\u001B[0m\u001B[0;36m10\u001B[0m\u001B[0;34m,\u001B[0m \u001B[0mverbose\u001B[0m \u001B[0;34m=\u001B[0m \u001B[0;36m0\u001B[0m\u001B[0;34m)\u001B[0m\u001B[0;34m\u001B[0m\u001B[0;34m\u001B[0m\u001B[0m\n\u001B[1;32m      3\u001B[0m \u001B[0mclf10\u001B[0m\u001B[0;34m.\u001B[0m\u001B[0mfit\u001B[0m\u001B[0;34m(\u001B[0m\u001B[0mvec_matrix_pca\u001B[0m\u001B[0;34m)\u001B[0m\u001B[0;34m\u001B[0m\u001B[0;34m\u001B[0m\u001B[0m\n",
      "\u001B[0;31mModuleNotFoundError\u001B[0m: No module named 'sklearn'"
     ]
    }
   ],
   "source": [
    "from sklearn.cluster import KMeans\n",
    "clf10 = KMeans(n_clusters=10, verbose = 0)\n",
    "clf10.fit(vec_matrix_pca)"
   ],
   "metadata": {
    "collapsed": false,
    "pycharm": {
     "name": "#%%\n"
    }
   }
  },
  {
   "cell_type": "code",
   "execution_count": 6,
   "outputs": [
    {
     "ename": "SyntaxError",
     "evalue": "invalid character in identifier (<ipython-input-6-7f9890e07293>, line 1)",
     "output_type": "error",
     "traceback": [
      "\u001B[0;36m  File \u001B[0;32m\"<ipython-input-6-7f9890e07293>\"\u001B[0;36m, line \u001B[0;32m1\u001B[0m\n\u001B[0;31m    articles[‘labels’] = clf10.labels_\u001B[0m\n\u001B[0m                    ^\u001B[0m\n\u001B[0;31mSyntaxError\u001B[0m\u001B[0;31m:\u001B[0m invalid character in identifier\n"
     ]
    }
   ],
   "source": [
    "articles[‘labels’] = clf10.labels_"
   ],
   "metadata": {
    "collapsed": false,
    "pycharm": {
     "name": "#%%\n"
    }
   }
  },
  {
   "cell_type": "code",
   "execution_count": 7,
   "outputs": [
    {
     "ename": "SyntaxError",
     "evalue": "invalid character in identifier (<ipython-input-7-a598b369a94d>, line 1)",
     "output_type": "error",
     "traceback": [
      "\u001B[0;36m  File \u001B[0;32m\"<ipython-input-7-a598b369a94d>\"\u001B[0;36m, line \u001B[0;32m1\u001B[0m\n\u001B[0;31m    labelsdf = articles.groupby([‘publication’, ‘labels’]).count()\u001B[0m\n\u001B[0m                                             ^\u001B[0m\n\u001B[0;31mSyntaxError\u001B[0m\u001B[0;31m:\u001B[0m invalid character in identifier\n"
     ]
    }
   ],
   "source": [
    "labelsdf = articles.groupby([‘publication’, ‘labels’]).count()\n",
    "pubslist = list(articles[‘publication’].unique())\n",
    "labelsdf[‘percentage’] = 0\n",
    "for index, row in labelsdf.iterrows():\n",
    "    for pub in pubslist:\n",
    "        for label in range(10):\n",
    "            try:\n",
    "                labelsdf.loc[(pub, label), ‘percentage’] = labelsdf.loc[(pub, label), ‘id’] / labelsdf.loc[(pub), ‘id’].sum()\n",
    "            except:\n",
    "                pass\n",
    "labelsdf = labelsdf[['publication', 'labels', 'percentage']]"
   ],
   "metadata": {
    "collapsed": false,
    "pycharm": {
     "name": "#%%\n"
    }
   }
  },
  {
   "cell_type": "code",
   "execution_count": null,
   "outputs": [],
   "source": [],
   "metadata": {
    "collapsed": false,
    "pycharm": {
     "name": "#%%\n"
    }
   }
  }
 ],
 "metadata": {
  "kernelspec": {
   "display_name": "Python 3",
   "language": "python",
   "name": "python3"
  },
  "language_info": {
   "codemirror_mode": {
    "name": "ipython",
    "version": 2
   },
   "file_extension": ".py",
   "mimetype": "text/x-python",
   "name": "python",
   "nbconvert_exporter": "python",
   "pygments_lexer": "ipython2",
   "version": "2.7.6"
  }
 },
 "nbformat": 4,
 "nbformat_minor": 0
}