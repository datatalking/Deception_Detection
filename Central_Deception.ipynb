{
 "cells": [
  {
   "cell_type": "code",
   "execution_count": null,
   "metadata": {
    "collapsed": true
   },
   "outputs": [],
   "source": [
    "# SOURCE https://towardsdatascience.com/media-bias-detection-using-deep-learning-libraries-in-python-44efef4918d1\n",
    "# SOURCE https://www.kaggle.com/snapcrack/all-the-news\n",
    "# sentiment analysis https://towardsdatascience.com/all-the-news-17fa34b52b9d\n",
    "\n",
    "# DATA SOURCE https://components.one/datasets/all-the-news-articles-dataset/\n",
    "# stemming process\n",
    "\n",
    "import nltk\n",
    "from nltk import pos_tag\n",
    "from nltk.stem import PorterStemmer\n",
    "from nltk import word_tokenize\n",
    "from collections import Counter\n",
    "import time\n",
    "\n",
    "stemmer = PorterStemmer()\n",
    "tokenizer = nltk.data.load(‘tokenizers / punkt / english.pickle’)\n",
    "progress = 0  # for keeping track of where the function is\n",
    "\n",
    "\n",
    "def stem(x):\n",
    "\tend = time.time()\n",
    "\tdirty = word_tokenize(x)\n",
    "\ttokens = []\n",
    "\tfor word in dirty:\n",
    "\t\tif word.strip(‘.’) == ‘’:  # this deals with the bug\n",
    "\t\t\tpass\n",
    "\t\telif re.search(r’\\d{1, }’, word):  # getting rid of digits\n",
    "\t\t\tpass\n",
    "\telse:\n",
    "\t\ttokens.append(word.strip(‘.’))\n",
    "\t\tglobal start\n",
    "\t\tglobal progress\n",
    "\t\ttokens = pos_tag(tokens)  #\n",
    "\t\tprogress += 1\n",
    "\t\tstems = ‘ ‘.join(\n",
    "\t\t\tstemmer.stem(key.lower()) for key, value in tokens if value != ‘NNP’)  # getting rid of proper nouns\n",
    "\n",
    "\t\tend = time.time()\n",
    "\t\tsys.stdout.write(‘\\r\n",
    "\t\t{}\n",
    "\t\tpercent, {}\n",
    "\t\tposition, {}\n",
    "\t\tper\n",
    "\t\tsecond ‘.format(str(float(progress / len(articles))),\n",
    "\t\t                str(progress), (1 / (end — start))))  # lets us see how much time is left\n",
    "\t\tstart = time.time()\n",
    "\t\treturn stems\n",
    "\tstart = time.time()\n",
    "\tarticles['stems'] = articles.content.apply(lambda x: stem(x))"
   ]
  },
  {
   "cell_type": "code",
   "execution_count": null,
   "outputs": [],
   "source": [
    "from collections import Counter\n",
    "all_words = Counter()\n",
    "start = time.time()\n",
    "progress = 0\n",
    "def count_everything(x):\n",
    "    global start\n",
    "    global all_words\n",
    "    global progress\n",
    "    x = x.split(‘ ‘)\n",
    "    for word in x:\n",
    "        all_words[word] += 1\n",
    "    progress += 1\n",
    "    end = time.time()\n",
    " sys.stdout.write(‘\\r {} percent, {} position, {} per second ‘.format((str(float(progress / len(articles)))),\n",
    " (progress), (1 / (end — start))))\n",
    "    start = time.time()\n",
    "for item in articles.stems:\n",
    "    count_everything(item)\n"
   ],
   "metadata": {
    "collapsed": false,
    "pycharm": {
     "name": "#%%\n"
    }
   }
  },
  {
   "cell_type": "code",
   "execution_count": 1,
   "outputs": [
    {
     "ename": "SyntaxError",
     "evalue": "invalid character in identifier (<ipython-input-1-dfe1082adc60>, line 1)",
     "output_type": "error",
     "traceback": [
      "\u001B[0;36m  File \u001B[0;32m\"<ipython-input-1-dfe1082adc60>\"\u001B[0;36m, line \u001B[0;32m1\u001B[0m\n\u001B[0;31m    allwordsdf = pd.DataFrame(columns = [‘words’, ‘count’])\u001B[0m\n\u001B[0m                                               ^\u001B[0m\n\u001B[0;31mSyntaxError\u001B[0m\u001B[0;31m:\u001B[0m invalid character in identifier\n"
     ]
    }
   ],
   "source": [
    "allwordsdf = pd.DataFrame(columns = [‘words’, ‘count’])\n",
    "allwordsdf[‘count’] = pd.Series(list(all_words.values()))\n",
    "allwordsdf[‘words’] = pd.Series(list(all_words.keys()))\n",
    "allwordsdf.index = allwordsdf[‘words’]"
   ],
   "metadata": {
    "collapsed": false,
    "pycharm": {
     "name": "#%%\n"
    }
   }
  },
  {
   "cell_type": "code",
   "execution_count": null,
   "outputs": [],
   "source": [
    "from nltk.corpus import words\n",
    "nltkstems = [stemmer.stem(word) for word in words.words()] #stem the #words in the NLTK corpus so that they’re equivalent to the words in #the allwordsdf dataframe\n",
    "nltkwords = pd.DataFrame() #make a new dataframe with the stemmed #NLTK words\n",
    "nltkwords[‘words’] = nltkstems\n",
    "allwordsdf = allwordsdf[allwordsdf[‘words’].isin(nltkwords[‘words’])] #keep only #those in the stemmed NLTK corpus"
   ],
   "metadata": {
    "collapsed": false,
    "pycharm": {
     "name": "#%%\n"
    }
   }
  },
  {
   "cell_type": "code",
   "execution_count": null,
   "outputs": [],
   "source": [
    "allwordsdf[allwordsdf[‘count’] == allwordsdf[‘count’].quantile(.4)][:10]"
   ],
   "metadata": {
    "collapsed": false,
    "pycharm": {
     "name": "#%%\n"
    }
   }
  },
  {
   "cell_type": "code",
   "execution_count": null,
   "outputs": [],
   "source": [],
   "metadata": {
    "collapsed": false,
    "pycharm": {
     "name": "#%%\n"
    }
   }
  }
 ],
 "metadata": {
  "kernelspec": {
   "display_name": "Python 3",
   "language": "python",
   "name": "python3"
  },
  "language_info": {
   "codemirror_mode": {
    "name": "ipython",
    "version": 2
   },
   "file_extension": ".py",
   "mimetype": "text/x-python",
   "name": "python",
   "nbconvert_exporter": "python",
   "pygments_lexer": "ipython2",
   "version": "2.7.6"
  }
 },
 "nbformat": 4,
 "nbformat_minor": 0
}